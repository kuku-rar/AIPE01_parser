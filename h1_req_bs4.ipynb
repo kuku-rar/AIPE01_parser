{
 "cells": [
  {
   "cell_type": "code",
   "execution_count": 3,
   "metadata": {},
   "outputs": [],
   "source": [
    "import regex as re\n",
    "import os\n",
    "import requests as req\n",
    "from bs4 import BeautifulSoup as bs\n",
    "\n",
    "folderPath = 'project_gutenberg'\n",
    "if not os.path.exists(folderPath):\n",
    "    os.makedirs(folderPath)"
   ]
  },
  {
   "cell_type": "code",
   "execution_count": 4,
   "metadata": {},
   "outputs": [],
   "source": [
    "def request(url):\n",
    "    try:\n",
    "        response = req.get(url, timeout=10)\n",
    "        response.raise_for_status()  # 檢查請求是否成功\n",
    "        return response.text\n",
    "    except req.exceptions.RequestException as e:\n",
    "        print(f\"Request failed: {e}\")\n",
    "\n",
    "def savetxt(title, content):\n",
    "    if not os.path.exists(folderPath):\n",
    "        os.makedirs(folderPath)\n",
    "    with open(f\"{folderPath}/{title}.txt\", \"w\", encoding='utf-8') as file:\n",
    "        file.write(content)\n"
   ]
  },
  {
   "cell_type": "code",
   "execution_count": null,
   "metadata": {},
   "outputs": [
    {
     "name": "stdout",
     "output_type": "stream",
     "text": [
      "豆棚閒話\n",
      "https://www.gutenberg.org/cache/epub/25328/pg25328.txt\n",
      "戲中戲\n",
      "https://www.gutenberg.org/cache/epub/24225/pg24225.txt\n",
      "比目魚\n",
      "https://www.gutenberg.org/cache/epub/24185/pg24185.txt\n",
      "比目魚\n",
      "https://www.gutenberg.org/cache/epub/27119/pg27119.txt\n",
      "三字經\n",
      "https://www.gutenberg.org/cache/epub/12479/pg12479.txt\n",
      "山水情\n",
      "https://www.gutenberg.org/cache/epub/25146/pg25146.txt\n",
      "\n",
      "Found 507 links.\n"
     ]
    }
   ],
   "source": [
    "# 變數設定\n",
    "count = 0\n",
    "listData = []\n",
    "title = \"\"\n",
    "chinese_str = r'[\\u4e00-\\u9fff，。！？、：「」『』（）《》〈〉—…；．·～]+'  # 正體中文字符範圍\n",
    "reg_str = r'/ebooks/(\\d+)'  # 正則表達式，用於匹配數字\n",
    "urlstring = \"https://www.gutenberg.org\"\n",
    "\n",
    "res = request(\"https://www.gutenberg.org/browse/languages/zh\")\n",
    "soup = bs(res, 'html.parser')\n",
    "elements = soup.select('ul li.pgdbetext a[href]')\n",
    "\n",
    "for i in elements:\n",
    "    if count > 5:\n",
    "        break\n",
    "    title = i.text.strip()\n",
    "    if re.match(r'[A-Za-z]+', title) != None:\n",
    "        continue\n",
    "    print(title)\n",
    "\n",
    "    index = re.match(reg_str, i['href'])\n",
    "    href = f\"{urlstring}/cache/epub/{index[1]}/pg{index[1]}.txt\"\n",
    "    print(href)\n",
    "\n",
    "    p = request(href)\n",
    "    rm_space = re.sub(r'[\\r\\n]+', '', p)  # 移除多餘空格\n",
    "    match_ch = re.findall(chinese_str, rm_space)\n",
    "    # print(match_ch)\n",
    "    for match in match_ch[3:]:\n",
    "        listData.append(match)\n",
    "    if not os.path.exists(f\"{folderPath}/{title}.txt\"):\n",
    "        savetxt(title, ''.join(listData))\n",
    "    count += 1\n",
    "    listData.clear()\n",
    "print()\n",
    "print(f\"Found {len(elements)} links.\")"
   ]
  },
  {
   "cell_type": "code",
   "execution_count": null,
   "metadata": {},
   "outputs": [],
   "source": []
  }
 ],
 "metadata": {
  "kernelspec": {
   "display_name": "base",
   "language": "python",
   "name": "python3"
  },
  "language_info": {
   "codemirror_mode": {
    "name": "ipython",
    "version": 3
   },
   "file_extension": ".py",
   "mimetype": "text/x-python",
   "name": "python",
   "nbconvert_exporter": "python",
   "pygments_lexer": "ipython3",
   "version": "3.12.7"
  }
 },
 "nbformat": 4,
 "nbformat_minor": 2
}
