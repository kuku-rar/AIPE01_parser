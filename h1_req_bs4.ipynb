{
 "cells": [
  {
   "cell_type": "code",
   "execution_count": 2,
   "metadata": {},
   "outputs": [],
   "source": [
    "import regex as re\n",
    "import os\n",
    "import requests as req\n",
    "from bs4 import BeautifulSoup as bs\n",
    "\n",
    "folderPath = 'project_gutenberg'\n",
    "if not os.path.exists(folderPath):\n",
    "    os.makedirs(folderPath)"
   ]
  },
  {
   "cell_type": "code",
   "execution_count": 3,
   "metadata": {},
   "outputs": [],
   "source": [
    "def request(url):\n",
    "    try:\n",
    "        response = req.get(url, timeout=10)\n",
    "        response.raise_for_status()  # 檢查請求是否成功\n",
    "        return response.text\n",
    "    except req.exceptions.RequestException as e:\n",
    "        print(f\"Request failed: {e}\")\n",
    "\n",
    "def savetxt(title, content):\n",
    "    if not os.path.exists(folderPath):\n",
    "        os.makedirs(folderPath)\n",
    "    with open(f\"{folderPath}/{title}.txt\", \"w\", encoding='utf-8') as file:\n",
    "        file.write(content)\n"
   ]
  },
  {
   "cell_type": "code",
   "execution_count": 3,
   "metadata": {},
   "outputs": [
    {
     "ename": "NameError",
     "evalue": "name 'request' is not defined",
     "output_type": "error",
     "traceback": [
      "\u001b[0;31m---------------------------------------------------------------------------\u001b[0m",
      "\u001b[0;31mNameError\u001b[0m                                 Traceback (most recent call last)",
      "Cell \u001b[0;32mIn[3], line 8\u001b[0m\n\u001b[1;32m      5\u001b[0m reg_str \u001b[38;5;241m=\u001b[39m \u001b[38;5;124mr\u001b[39m\u001b[38;5;124m'\u001b[39m\u001b[38;5;124m/ebooks/(\u001b[39m\u001b[38;5;124m\\\u001b[39m\u001b[38;5;124md+)\u001b[39m\u001b[38;5;124m'\u001b[39m  \u001b[38;5;66;03m# 正則表達式，用於匹配數字\u001b[39;00m\n\u001b[1;32m      6\u001b[0m urlstring \u001b[38;5;241m=\u001b[39m \u001b[38;5;124m\"\u001b[39m\u001b[38;5;124mhttps://www.gutenberg.org\u001b[39m\u001b[38;5;124m\"\u001b[39m\n\u001b[0;32m----> 8\u001b[0m res \u001b[38;5;241m=\u001b[39m request(\u001b[38;5;124m\"\u001b[39m\u001b[38;5;124mhttps://www.gutenberg.org/browse/languages/zh\u001b[39m\u001b[38;5;124m\"\u001b[39m)\n\u001b[1;32m      9\u001b[0m soup \u001b[38;5;241m=\u001b[39m bs(res, \u001b[38;5;124m'\u001b[39m\u001b[38;5;124mhtml.parser\u001b[39m\u001b[38;5;124m'\u001b[39m)\n\u001b[1;32m     10\u001b[0m elements \u001b[38;5;241m=\u001b[39m soup\u001b[38;5;241m.\u001b[39mselect(\u001b[38;5;124m'\u001b[39m\u001b[38;5;124mul li.pgdbetext a[href]\u001b[39m\u001b[38;5;124m'\u001b[39m)\n",
      "\u001b[0;31mNameError\u001b[0m: name 'request' is not defined"
     ]
    }
   ],
   "source": [
    "# 變數設定\n",
    "count = 0\n",
    "listData = []\n",
    "chinese_str = r'[\\u4e00-\\u9fff，。！？、：「」『』（）《》〈〉—…；．·～]+'  # 正體中文字符範圍\n",
    "reg_str = r'/ebooks/(\\d+)'  # 正則表達式，用於匹配數字\n",
    "urlstring = \"https://www.gutenberg.org\"\n",
    "\n",
    "res = request(\"https://www.gutenberg.org/browse/languages/zh\")\n",
    "soup = bs(res, 'html.parser')\n",
    "elements = soup.select('ul li.pgdbetext a[href]')\n",
    "\n",
    "for i in elements:\n",
    "    if count > 5:\n",
    "        break\n",
    "    title = i.get_text()\n",
    "    print(title)\n",
    "    index = re.match(reg_str, i['href'])\n",
    "    href = f\"{urlstring}/cache/epub/{index[1]}/pg{index[1]}.txt\"\n",
    "    print(href)\n",
    "\n",
    "    p = request(href)\n",
    "    rm_space = re.sub(r'[\\r\\n]+', '', p)  # 移除多餘空格\n",
    "    match_ch = re.findall(chinese_str, p)\n",
    "    # print(match_ch)\n",
    "    for match in match_ch[3:]:\n",
    "        print(match,end='')\n",
    "        listData.append(match)\n",
    "    if not os.path.exists(f\"{folderPath}/{title}.txt\"):\n",
    "        savetxt(title, ''.join(listData))\n",
    "    count += 1\n",
    "    listData.clear()\n",
    "print()\n",
    "print(f\"Found {len(elements)} links.\")"
   ]
  },
  {
   "cell_type": "code",
   "execution_count": null,
   "metadata": {},
   "outputs": [],
   "source": []
  }
 ],
 "metadata": {
  "kernelspec": {
   "display_name": "base",
   "language": "python",
   "name": "python3"
  },
  "language_info": {
   "codemirror_mode": {
    "name": "ipython",
    "version": 3
   },
   "file_extension": ".py",
   "mimetype": "text/x-python",
   "name": "python",
   "nbconvert_exporter": "python",
   "pygments_lexer": "ipython3",
   "version": "3.12.7"
  }
 },
 "nbformat": 4,
 "nbformat_minor": 2
}
