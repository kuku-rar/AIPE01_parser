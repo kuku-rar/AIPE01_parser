{
 "cells": [
  {
   "cell_type": "code",
   "execution_count": 1,
   "metadata": {},
   "outputs": [],
   "source": [
    "import regex as re\n",
    "import os\n",
    "from selenium import webdriver\n",
    "from selenium.webdriver.chrome.service import Service\n",
    "from selenium.common.exceptions import TimeoutException, NoSuchElementException\n",
    "from selenium.webdriver.support.ui import WebDriverWait\n",
    "from selenium.webdriver.support import expected_conditions as EC\n",
    "from selenium.webdriver.common.by import By\n",
    "from time import sleep"
   ]
  },
  {
   "cell_type": "code",
   "execution_count": 11,
   "metadata": {},
   "outputs": [],
   "source": [
    "my_options = webdriver.ChromeOptions()\n",
    "my_options.add_argument('--disable-extensions')                     # 禁用瀏覽器擴展，減少干擾\n",
    "my_options.add_argument('--disable-browser-side-navigation')        # 禁用瀏覽器側導航，提高穩定性\n",
    "my_options.add_argument(\"--window-size=720,540\")                  # 設定瀏覽器視窗大小\n",
    "my_options.add_argument(\"--incognito\")               # 開啟無痕模式\n",
    "my_options.add_argument(\"--disable-popup-blocking\")  # 禁用彈出攔截\n",
    "my_options.add_argument(\"--disable-notifications\")   # 取消 chrome 推播通知\n",
    "my_options.add_argument(\"--lang=zh-TW\")              # 設定為正體中文\n",
    "# my_options.add_argument('--no-sandbox')                             # 禁用沙盒模式，提高在某些環境下的穩定性\n",
    "# my_options.add_argument('--disable-dev-shm-usage')                  # 禁用/dev/shm使用，避免內存不足問題\n",
    "# my_options.add_argument('--disable-gpu')                            # 禁用GPU加速，避免某些圖形相關問題\n",
    "# my_options.add_argument('--disable-infobars')                       # 禁用信息欄，如\"Chrome正在被自動化軟件控制\"的提示\n",
    "# my_options.add_argument('--disable-features=VizDisplayCompositor')  # 禁用視覺顯示合成器，解決某些渲染問題\n",
    "\n",
    "folderPath = 'project_gutenberg'\n",
    "if not os.path.exists(folderPath):\n",
    "    os.makedirs(folderPath)"
   ]
  },
  {
   "cell_type": "code",
   "execution_count": 36,
   "metadata": {},
   "outputs": [],
   "source": [
    "def visit(url):\n",
    "    global driver\n",
    "    driver = webdriver.Chrome(\n",
    "    options=my_options\n",
    "    )\n",
    "    driver.get(url)\n",
    "    sleep(3)\n",
    "\n",
    "def parse():\n",
    "    book = {}\n",
    "    elements = driver.find_elements(\n",
    "        By.CSS_SELECTOR, 'ul li.pgdbetext a[href]'\n",
    "    )\n",
    "    # 使用列表推導式提取每個元素的 href 屬性\n",
    "    # return [element.get_attribute('href') for element in elements]\n",
    "    print(f\"找到 {len(elements)} 個連結\")\n",
    "    for i in elements[:2]:\n",
    "        try:\n",
    "            title = i.text.strip()\n",
    "            href_index = re.findall(r\"\\d+\", i.get_attribute('href'))[0]\n",
    "            href = f\"https://www.gutenberg.org/cache/epub/{href_index}/pg{href_index}.txt\"\n",
    "            print(title)\n",
    "            print(href)\n",
    "            book.setdefault(title, href)\n",
    "            return book\n",
    "        except (AttributeError, IndexError):\n",
    "            print(\"無法解析連結或標題\")\n",
    "            continue\n",
    "\n",
    "def savetxt(title, content):\n",
    "    if not os.path.exists(folderPath):\n",
    "        os.makedirs(folderPath)\n",
    "    with open(f\"{folderPath}/{title}.txt\", \"w\", encoding='utf-8') as file:\n",
    "        if file.name in os.listdir(folderPath):\n",
    "            print(f\"{title}.txt 已存在，跳過保存\")\n",
    "        else:\n",
    "            file.write(content)\n",
    "\n",
    "\n",
    "\n",
    "def exit():\n",
    "    global driver\n",
    "    try:\n",
    "        driver.quit()\n",
    "    except Exception as e:\n",
    "        print(f\"退出瀏覽器時發生錯誤: {e}\")\n",
    "    finally:\n",
    "        print(\"瀏覽器已關閉\")"
   ]
  },
  {
   "cell_type": "code",
   "execution_count": 37,
   "metadata": {},
   "outputs": [
    {
     "name": "stdout",
     "output_type": "stream",
     "text": [
      "找到 507 個連結\n",
      "豆棚閒話\n",
      "https://www.gutenberg.org/cache/epub/25328/pg25328.txt\n",
      "瀏覽器已關閉\n"
     ]
    }
   ],
   "source": [
    "visit('https://www.gutenberg.org/browse/languages/zh')\n",
    "parse()\n",
    "exit()"
   ]
  },
  {
   "cell_type": "code",
   "execution_count": null,
   "metadata": {},
   "outputs": [],
   "source": []
  }
 ],
 "metadata": {
  "kernelspec": {
   "display_name": "base",
   "language": "python",
   "name": "python3"
  },
  "language_info": {
   "codemirror_mode": {
    "name": "ipython",
    "version": 3
   },
   "file_extension": ".py",
   "mimetype": "text/x-python",
   "name": "python",
   "nbconvert_exporter": "python",
   "pygments_lexer": "ipython3",
   "version": "3.12.7"
  }
 },
 "nbformat": 4,
 "nbformat_minor": 2
}
